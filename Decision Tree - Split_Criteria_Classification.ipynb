{
 "cells": [
  {
   "cell_type": "markdown",
   "id": "7cbc03b4",
   "metadata": {},
   "source": [
    "# 1. Entropy - Split Criteria for Classification"
   ]
  },
  {
   "cell_type": "code",
   "execution_count": 1,
   "id": "42e0828b",
   "metadata": {},
   "outputs": [],
   "source": [
    "import numpy as np"
   ]
  },
  {
   "cell_type": "code",
   "execution_count": 42,
   "id": "febee0bd",
   "metadata": {},
   "outputs": [
    {
     "data": {
      "text/plain": [
       "-2.0"
      ]
     },
     "execution_count": 42,
     "metadata": {},
     "output_type": "execute_result"
    }
   ],
   "source": [
    "x1= np.log2(0.25)\n",
    "x1"
   ]
  },
  {
   "cell_type": "code",
   "execution_count": 43,
   "id": "0c9f17d7",
   "metadata": {},
   "outputs": [
    {
     "data": {
      "text/plain": [
       "-0.4150374992788438"
      ]
     },
     "execution_count": 43,
     "metadata": {},
     "output_type": "execute_result"
    }
   ],
   "source": [
    "x2= np.log2(0.75)\n",
    "x2"
   ]
  },
  {
   "cell_type": "code",
   "execution_count": 44,
   "id": "e3e53bc0",
   "metadata": {},
   "outputs": [
    {
     "data": {
      "text/plain": [
       "0.8112781244591328"
      ]
     },
     "execution_count": 44,
     "metadata": {},
     "output_type": "execute_result"
    }
   ],
   "source": [
    "e = -(0.25*x1+0.75*x2)\n",
    "e"
   ]
  },
  {
   "cell_type": "markdown",
   "id": "f9be7421",
   "metadata": {},
   "source": [
    "# Example 1: 2 Classes"
   ]
  },
  {
   "cell_type": "code",
   "execution_count": 34,
   "id": "bc831345",
   "metadata": {},
   "outputs": [],
   "source": [
    "def entropy_2(c1,c2):\n",
    "    p1=c1/(c1+c2)\n",
    "    p2=c2/(c1+c2)\n",
    "    entropy= -(p1*np.log2(p1)+p2*np.log2(p2))\n",
    "    return entropy"
   ]
  },
  {
   "cell_type": "code",
   "execution_count": 36,
   "id": "c5955c4c",
   "metadata": {},
   "outputs": [
    {
     "data": {
      "text/plain": [
       "0.9709505944546686"
      ]
     },
     "execution_count": 36,
     "metadata": {},
     "output_type": "execute_result"
    }
   ],
   "source": [
    "entropy_2(6,4)"
   ]
  },
  {
   "cell_type": "code",
   "execution_count": null,
   "id": "d63164a2",
   "metadata": {},
   "outputs": [],
   "source": [
    "entropy(5,1)"
   ]
  },
  {
   "cell_type": "code",
   "execution_count": null,
   "id": "7d3ad949",
   "metadata": {},
   "outputs": [],
   "source": [
    "entropy(1,3)"
   ]
  },
  {
   "cell_type": "code",
   "execution_count": null,
   "id": "bc1842ae",
   "metadata": {},
   "outputs": [],
   "source": [
    "entropy(3,2)"
   ]
  },
  {
   "cell_type": "markdown",
   "id": "78eae219",
   "metadata": {},
   "source": [
    "# Example 2: 3 classes"
   ]
  },
  {
   "cell_type": "code",
   "execution_count": null,
   "id": "b189ec23",
   "metadata": {},
   "outputs": [],
   "source": [
    "def entropy_3(c1,c2,c3):\n",
    "    p1=c1/(c1+c2+c3)\n",
    "    p2=c2/(c1+c2+c3)\n",
    "    p3=c3/(c1+c2+c3)\n",
    "    entropy= -(p1*np.log2(p1)+p2*np.log2(p2)+p3*np.log2(p3))\n",
    "    return entropy"
   ]
  },
  {
   "cell_type": "code",
   "execution_count": null,
   "id": "afeafc6f",
   "metadata": {},
   "outputs": [],
   "source": [
    "entropy_3(300,300,400)"
   ]
  },
  {
   "cell_type": "code",
   "execution_count": null,
   "id": "cc4ae197",
   "metadata": {},
   "outputs": [],
   "source": [
    "entropy_3(250,260,30)"
   ]
  },
  {
   "cell_type": "code",
   "execution_count": null,
   "id": "225917cb",
   "metadata": {},
   "outputs": [],
   "source": [
    "entropy_3(50,40,370)"
   ]
  },
  {
   "cell_type": "code",
   "execution_count": null,
   "id": "7f6b818f",
   "metadata": {},
   "outputs": [],
   "source": [
    "entropy_3(200,250,250)"
   ]
  },
  {
   "cell_type": "code",
   "execution_count": null,
   "id": "4b4fe3a0",
   "metadata": {},
   "outputs": [],
   "source": [
    "entropy_3(100,50,150)"
   ]
  },
  {
   "cell_type": "markdown",
   "id": "0fd04236",
   "metadata": {},
   "source": [
    "# Program to calculate entropy for any number of classes"
   ]
  },
  {
   "cell_type": "code",
   "execution_count": 6,
   "id": "e8c0f574",
   "metadata": {},
   "outputs": [],
   "source": [
    "def Entropy(*classes):\n",
    "    if len(classes)<2:\n",
    "        print(\"Provide at least two classes\")\n",
    "    else:\n",
    "        prob = []\n",
    "        for c in classes:\n",
    "            prob.append(c/sum(classes))\n",
    "        \n",
    "        entropy=0\n",
    "        for p in prob:\n",
    "            entropy = entropy + p*np.log2(p)\n",
    "        \n",
    "        return -entropy"
   ]
  },
  {
   "cell_type": "code",
   "execution_count": 11,
   "id": "66357c02",
   "metadata": {},
   "outputs": [
    {
     "data": {
      "text/plain": [
       "1.4911148500551858"
      ]
     },
     "execution_count": 11,
     "metadata": {},
     "output_type": "execute_result"
    }
   ],
   "source": [
    "Entropy(100,200,700,100)"
   ]
  },
  {
   "cell_type": "markdown",
   "id": "bbdc384b",
   "metadata": {},
   "source": [
    "# 2. GINI Index - Split Criteria for Classification"
   ]
  },
  {
   "cell_type": "code",
   "execution_count": 2,
   "id": "e827b3d4",
   "metadata": {},
   "outputs": [],
   "source": [
    "def GINI_Index(*classes):\n",
    "    if len(classes)<2:\n",
    "        print(\"Provide at least two classes\")\n",
    "    else:\n",
    "        prob = []\n",
    "        for c in classes:\n",
    "            prob.append(c/sum(classes))\n",
    "        \n",
    "        sum_sq = 0\n",
    "        for p in prob:\n",
    "            sum_sq = sum_sq + p**2\n",
    "        \n",
    "        return (1-sum_sq)"
   ]
  },
  {
   "cell_type": "code",
   "execution_count": 12,
   "id": "1210b66a",
   "metadata": {},
   "outputs": [
    {
     "data": {
      "text/plain": [
       "0.48"
      ]
     },
     "execution_count": 12,
     "metadata": {},
     "output_type": "execute_result"
    }
   ],
   "source": [
    "GINI_Index(600,400)"
   ]
  },
  {
   "cell_type": "code",
   "execution_count": null,
   "id": "d3fb6e19",
   "metadata": {},
   "outputs": [],
   "source": []
  }
 ],
 "metadata": {
  "kernelspec": {
   "display_name": "Python 3 (ipykernel)",
   "language": "python",
   "name": "python3"
  },
  "language_info": {
   "codemirror_mode": {
    "name": "ipython",
    "version": 3
   },
   "file_extension": ".py",
   "mimetype": "text/x-python",
   "name": "python",
   "nbconvert_exporter": "python",
   "pygments_lexer": "ipython3",
   "version": "3.9.12"
  }
 },
 "nbformat": 4,
 "nbformat_minor": 5
}
